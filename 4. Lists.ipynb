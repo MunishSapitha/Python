{
 "cells": [
  {
   "cell_type": "code",
   "execution_count": 1,
   "id": "aa966b89",
   "metadata": {},
   "outputs": [],
   "source": [
    "#Lists\n",
    "#Store multiple values in a single variable\n",
    "#Seperated by commas and enclosed in square brackets[]\n",
    "#lists have built-in-functions list()\n",
    "\n",
    "# Ordered\n",
    "# lists are ordered, it means that the items have a defined order, and that order will not change.\n",
    "# If you add new items to a list, the new items will be placed at the end of the list.\n",
    "\n",
    "# Changeable\n",
    "# The list is changeable, meaning that we can change, add, and remove items in a list after it has been created.\n",
    "\n",
    "# Allow Duplicates\n",
    "# Since lists are indexed, lists can have items with the same value:"
   ]
  },
  {
   "cell_type": "code",
   "execution_count": 3,
   "id": "87484e32",
   "metadata": {},
   "outputs": [],
   "source": [
    "list_str=['a','b','c']"
   ]
  },
  {
   "cell_type": "code",
   "execution_count": 4,
   "id": "cadeae63",
   "metadata": {},
   "outputs": [],
   "source": [
    "list_str=[\"a\",\"b\",\"c\"]"
   ]
  },
  {
   "cell_type": "code",
   "execution_count": 5,
   "id": "52b5dcb1",
   "metadata": {},
   "outputs": [],
   "source": [
    "list_int=[1,2,3,4,5]"
   ]
  },
  {
   "cell_type": "code",
   "execution_count": 1,
   "id": "8146b0c8",
   "metadata": {},
   "outputs": [],
   "source": [
    "lists=[\"sum\",50,24,\"s\"]"
   ]
  },
  {
   "cell_type": "code",
   "execution_count": 2,
   "id": "5f4c08f8",
   "metadata": {},
   "outputs": [
    {
     "name": "stdout",
     "output_type": "stream",
     "text": [
      "6\n"
     ]
    }
   ],
   "source": [
    "# Get the length of the lists using len()function\n",
    "# length of the iterable\n",
    "# syntax -len(listname)\n",
    "\n",
    "lists=[1,2,3,4,5,6]\n",
    "print(len(lists))"
   ]
  },
  {
   "cell_type": "code",
   "execution_count": 3,
   "id": "01d8966b",
   "metadata": {},
   "outputs": [
    {
     "name": "stdout",
     "output_type": "stream",
     "text": [
      "['apple', 'banana', 'cherry', 'apple', 'cherry']\n"
     ]
    }
   ],
   "source": [
    "#Lists allow duplicates\n",
    "\n",
    "lists = [\"apple\", \"banana\", \"cherry\", \"apple\", \"cherry\"]\n",
    "print(lists)"
   ]
  },
  {
   "cell_type": "code",
   "execution_count": 4,
   "id": "fbdd855a",
   "metadata": {},
   "outputs": [
    {
     "name": "stdout",
     "output_type": "stream",
     "text": [
      "['apple', 'banana', 'cherry']\n",
      "[1, 5, 7, 9, 3]\n",
      "[True, False, False]\n",
      "['abc', 34, True, 40, 'male']\n"
     ]
    }
   ],
   "source": [
    "#Lists with string, Integer, Boolean\n",
    "\n",
    "list1 = [\"apple\", \"banana\", \"cherry\"]\n",
    "list2 = [1, 5, 7, 9, 3]\n",
    "list3 = [True, False, False]\n",
    "list4 = [\"abc\", 34, True, 40, \"male\"]\n",
    "\n",
    "print(list1)\n",
    "print(list2)\n",
    "print(list3)\n",
    "print(list4)"
   ]
  },
  {
   "cell_type": "code",
   "execution_count": null,
   "id": "c8cd256a",
   "metadata": {},
   "outputs": [],
   "source": []
  }
 ],
 "metadata": {
  "kernelspec": {
   "display_name": "Python 3 (ipykernel)",
   "language": "python",
   "name": "python3"
  },
  "language_info": {
   "codemirror_mode": {
    "name": "ipython",
    "version": 3
   },
   "file_extension": ".py",
   "mimetype": "text/x-python",
   "name": "python",
   "nbconvert_exporter": "python",
   "pygments_lexer": "ipython3",
   "version": "3.11.3"
  }
 },
 "nbformat": 4,
 "nbformat_minor": 5
}
