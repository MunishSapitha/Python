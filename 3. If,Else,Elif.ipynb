{
 "cells": [
  {
   "cell_type": "code",
   "execution_count": 1,
   "id": "b3b8c6aa",
   "metadata": {},
   "outputs": [],
   "source": [
    "#Control structure\n",
    "#if, else, elif-singleinput\n",
    "\n",
    "#if condition:\n",
    "# if True:\n",
    "#     Execute block of code\n"
   ]
  },
  {
   "cell_type": "code",
   "execution_count": 4,
   "id": "cafa8191",
   "metadata": {},
   "outputs": [
    {
     "name": "stdout",
     "output_type": "stream",
     "text": [
      "Enter your age :18\n",
      "Adult\n"
     ]
    }
   ],
   "source": [
    "#if\n",
    "\n",
    "age=int(input(\"Enter your age :\"))\n",
    "if age==18:\n",
    "    print(\"Adult\")"
   ]
  },
  {
   "cell_type": "code",
   "execution_count": 7,
   "id": "3172b55e",
   "metadata": {},
   "outputs": [
    {
     "name": "stdout",
     "output_type": "stream",
     "text": [
      "The condition is true\n"
     ]
    }
   ],
   "source": [
    "#if\n",
    "\n",
    "x=10\n",
    "if x>5:\n",
    "    print(\"The condition is true\")"
   ]
  },
  {
   "cell_type": "code",
   "execution_count": null,
   "id": "c7af75ab",
   "metadata": {},
   "outputs": [],
   "source": []
  },
  {
   "cell_type": "code",
   "execution_count": 8,
   "id": "576a6bd8",
   "metadata": {},
   "outputs": [],
   "source": [
    "#else nocondition:\n",
    "\n",
    "#if true:\n",
    "    #execute\n",
    "#else:\n",
    "    #execute"
   ]
  },
  {
   "cell_type": "code",
   "execution_count": 11,
   "id": "b14a89d5",
   "metadata": {},
   "outputs": [
    {
     "name": "stdout",
     "output_type": "stream",
     "text": [
      "Enter your age :18\n",
      "Adult\n"
     ]
    }
   ],
   "source": [
    "#if else\n",
    "\n",
    "age=int(input(\"Enter your age :\"))\n",
    "if age<18:\n",
    "    print(\"Children\")\n",
    "else:\n",
    "    print(\"Adult\")"
   ]
  },
  {
   "cell_type": "code",
   "execution_count": 12,
   "id": "1c61ac21",
   "metadata": {},
   "outputs": [
    {
     "name": "stdout",
     "output_type": "stream",
     "text": [
      "The condition is false \n"
     ]
    }
   ],
   "source": [
    "#if else\n",
    "\n",
    "y=1\n",
    "if y>5:\n",
    "    print(\"The condition is true \")\n",
    "else:\n",
    "    print(\"The condition is false \")"
   ]
  },
  {
   "cell_type": "code",
   "execution_count": 4,
   "id": "f8413294",
   "metadata": {},
   "outputs": [
    {
     "name": "stdout",
     "output_type": "stream",
     "text": [
      "Enter the number :4\n",
      "Even Numbers\n"
     ]
    }
   ],
   "source": [
    "#Optimization - 2 ways to write code\n",
    "#Even or odd numbers\n",
    "\n",
    "num=int(input(\"Enter the number :\"))\n",
    "if num%2==0:\n",
    "    print(\"Even Numbers\")\n",
    "else:\n",
    "    print(\"Odd Numbers\")"
   ]
  },
  {
   "cell_type": "code",
   "execution_count": 5,
   "id": "de6f4bd7",
   "metadata": {},
   "outputs": [
    {
     "name": "stdout",
     "output_type": "stream",
     "text": [
      "Enter the number :5\n",
      "Odd Numbers\n"
     ]
    }
   ],
   "source": [
    "#Even or odd numbers\n",
    "\n",
    "num=int(input(\"Enter the number :\"))\n",
    "if num%2==1:\n",
    "    print(\"Odd Numbers\")\n",
    "else:\n",
    "    print(\"Even Numbers\")"
   ]
  },
  {
   "cell_type": "code",
   "execution_count": null,
   "id": "97209bbf",
   "metadata": {},
   "outputs": [],
   "source": []
  },
  {
   "cell_type": "code",
   "execution_count": 13,
   "id": "c9f26a66",
   "metadata": {},
   "outputs": [],
   "source": [
    "#elif\n",
    "\n",
    "#if condtion False:\n",
    "    #Execute\n",
    "#elif conditionTrue:\n",
    "    #Execute\n",
    "#elifconditionFalse:\n",
    "    #Execute\n",
    "#else:\n",
    "    #Execute"
   ]
  },
  {
   "cell_type": "code",
   "execution_count": 14,
   "id": "dbaf4356",
   "metadata": {},
   "outputs": [],
   "source": [
    "#elif\n",
    "\n",
    "#Output\n",
    "#age<18-children\n",
    "#age<35-Adult\n",
    "#age<60-Citizen\n",
    "#age>60-Seniorcitizen\n",
    "\n",
    "#Based on Above output,write code"
   ]
  },
  {
   "cell_type": "code",
   "execution_count": 18,
   "id": "6a9c0277",
   "metadata": {},
   "outputs": [
    {
     "name": "stdout",
     "output_type": "stream",
     "text": [
      "Enter your age :60\n",
      "Senior Citizen\n"
     ]
    }
   ],
   "source": [
    "#if,elif,else\n",
    "\n",
    "age=int(input(\"Enter your age :\"))\n",
    "if age<18:\n",
    "    print(\"Children\")\n",
    "elif age<35:\n",
    "    print(\"Adult\")\n",
    "elif age<60:\n",
    "    print(\"citizen\")\n",
    "else:\n",
    "    print(\"Senior Citizen\")"
   ]
  },
  {
   "cell_type": "code",
   "execution_count": 20,
   "id": "df1dd4d7",
   "metadata": {},
   "outputs": [
    {
     "name": "stdout",
     "output_type": "stream",
     "text": [
      "Acidic\n"
     ]
    }
   ],
   "source": [
    "#if,elif,else\n",
    "\n",
    "pH=2\n",
    "if pH<7:\n",
    "    print(\"Acidic\")\n",
    "elif pH>7:\n",
    "    print(\"asic\")\n",
    "else:#pH==7\n",
    "    print(\"Neutral\")"
   ]
  },
  {
   "cell_type": "code",
   "execution_count": null,
   "id": "1c5454f4",
   "metadata": {},
   "outputs": [],
   "source": []
  },
  {
   "cell_type": "code",
   "execution_count": null,
   "id": "0206234e",
   "metadata": {},
   "outputs": [],
   "source": [
    "#Summary\n",
    "\n",
    "#if - checks one condition\n",
    "#else-checks two condition\n",
    "#elif-checks two or more condition\n",
    "\n",
    "#if,else,elif - single input and  checks one(if),two(if,else), two or more conditions(if,elif,else)"
   ]
  }
 ],
 "metadata": {
  "kernelspec": {
   "display_name": "Python 3 (ipykernel)",
   "language": "python",
   "name": "python3"
  },
  "language_info": {
   "codemirror_mode": {
    "name": "ipython",
    "version": 3
   },
   "file_extension": ".py",
   "mimetype": "text/x-python",
   "name": "python",
   "nbconvert_exporter": "python",
   "pygments_lexer": "ipython3",
   "version": "3.11.3"
  }
 },
 "nbformat": 4,
 "nbformat_minor": 5
}
