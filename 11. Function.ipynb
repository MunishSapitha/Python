{
 "cells": [
  {
   "cell_type": "code",
   "execution_count": 2,
   "id": "eadaacca",
   "metadata": {},
   "outputs": [],
   "source": [
    "#Function\n",
    "# Code Resuability\n",
    "# Function is a block of code, which only runs when it is called\n",
    "\n",
    "# def functionname(parameters):\n",
    "#     Block of code\n",
    "#  return result\n",
    "\n"
   ]
  },
  {
   "cell_type": "code",
   "execution_count": 4,
   "id": "fcfa0187",
   "metadata": {},
   "outputs": [
    {
     "name": "stdout",
     "output_type": "stream",
     "text": [
      "Adult\n",
      "Citizen\n",
      "Senior Citizen\n",
      "Adult\n",
      "Senior Citizen\n"
     ]
    }
   ],
   "source": [
    "#define function and call the function\n",
    "\n",
    "def age_category():   #define function\n",
    "    list1=[23,45,67,34,89]\n",
    "    for age in list1:\n",
    "        if age<18:\n",
    "            print(\"Children\")\n",
    "        elif age<35:\n",
    "            print(\"Adult\")\n",
    "        elif age<59:\n",
    "            print(\"Citizen\")\n",
    "        else:\n",
    "            print(\"Senior Citizen\")\n",
    "            \n",
    "age_category()   #call funtion"
   ]
  },
  {
   "cell_type": "code",
   "execution_count": 6,
   "id": "57c97bea",
   "metadata": {},
   "outputs": [
    {
     "name": "stdout",
     "output_type": "stream",
     "text": [
      "Enter your age :45\n",
      "Citizen\n"
     ]
    }
   ],
   "source": [
    "#Fuction using return statement\n",
    "#Assign output or call the function using assignment operatior \n",
    "\n",
    "def age_category():   #define function\n",
    "   \n",
    "        age=int(input(\"Enter your age :\"))\n",
    "        if age<18:\n",
    "            print(\"Children\")\n",
    "            cate=\"Children\"\n",
    "        elif age<35:\n",
    "            print(\"Adult\")\n",
    "            cate=\"Adult\"\n",
    "        elif age<59:\n",
    "            print(\"Citizen\")\n",
    "            cate=\"Citizen\"\n",
    "        else:\n",
    "            print(\"Senior Citizen\")\n",
    "            cate=\"Senior Citizen\"\n",
    "       \n",
    "        return cate #return the result\n",
    "            \n",
    "Assignvar =age_category()   #call funtion and assign the output into variable"
   ]
  },
  {
   "cell_type": "code",
   "execution_count": 7,
   "id": "6adafceb",
   "metadata": {},
   "outputs": [
    {
     "name": "stdout",
     "output_type": "stream",
     "text": [
      "Citizen\n"
     ]
    }
   ],
   "source": [
    "print(Assignvar)"
   ]
  },
  {
   "cell_type": "code",
   "execution_count": 2,
   "id": "6c892735",
   "metadata": {},
   "outputs": [
    {
     "name": "stdout",
     "output_type": "stream",
     "text": [
      "Enter the number :5\n",
      "Odd Number\n",
      "The given number is Odd Number \n"
     ]
    }
   ],
   "source": [
    "#The output is used for input for another set of statements\n",
    "\n",
    "def odd_Even():\n",
    "    num=int(input(\"Enter the number :\"))\n",
    "    if num%2==0:\n",
    "        print(\"Even Number\")\n",
    "        msg=\"Even Number\"\n",
    "    else:\n",
    "        print(\"Odd Number\")\n",
    "        msg=\"Odd Number\"\n",
    "        \n",
    "    return msg\n",
    "\n",
    "message=odd_Even()\n",
    "\n",
    "if message==\"Even Number\":    #Output is used for input \n",
    "    print(\"The given number is Even number\")\n",
    "else:\n",
    "    print(\"The given number is Odd Number \")"
   ]
  },
  {
   "cell_type": "code",
   "execution_count": 3,
   "id": "df0979b9",
   "metadata": {},
   "outputs": [
    {
     "name": "stdout",
     "output_type": "stream",
     "text": [
      "Enter the BMI Index :31\n",
      "Obese\n"
     ]
    }
   ],
   "source": [
    "\n",
    "def bmi_index():\n",
    "    bmi=int(input(\"Enter the BMI Index :\"))\n",
    "    if bmi<18:\n",
    "        print(\"Underweight\")\n",
    "        msg=\"Underweight\"\n",
    "    elif bmi<25:\n",
    "        print(\"Normal\")\n",
    "        msg=\"Normal\"\n",
    "    elif bmi<30:\n",
    "        print(\"Overweight\")\n",
    "        msg=\"Overweight\"\n",
    "    else:\n",
    "        print(\"Obese\")\n",
    "        msg=\"Obese\"\n",
    "        \n",
    "    return msg\n",
    "\n",
    "message=bmi_index()"
   ]
  },
  {
   "cell_type": "code",
   "execution_count": 13,
   "id": "544bcc07",
   "metadata": {},
   "outputs": [
    {
     "data": {
      "text/plain": [
       "30"
      ]
     },
     "execution_count": 13,
     "metadata": {},
     "output_type": "execute_result"
    }
   ],
   "source": [
    "def addition(num1,num2):\n",
    "    add=num1+num2\n",
    "    return add\n",
    "\n",
    "addition(10,20)"
   ]
  },
  {
   "cell_type": "code",
   "execution_count": 11,
   "id": "fff73cd1",
   "metadata": {},
   "outputs": [
    {
     "data": {
      "text/plain": [
       "-10"
      ]
     },
     "execution_count": 11,
     "metadata": {},
     "output_type": "execute_result"
    }
   ],
   "source": [
    "def subtraction(num3,num4):\n",
    "    sub=num3-num4\n",
    "    return sub\n",
    "\n",
    "subtraction(10,20)"
   ]
  },
  {
   "cell_type": "code",
   "execution_count": null,
   "id": "66afdbb8",
   "metadata": {},
   "outputs": [],
   "source": []
  }
 ],
 "metadata": {
  "kernelspec": {
   "display_name": "Python 3 (ipykernel)",
   "language": "python",
   "name": "python3"
  },
  "language_info": {
   "codemirror_mode": {
    "name": "ipython",
    "version": 3
   },
   "file_extension": ".py",
   "mimetype": "text/x-python",
   "name": "python",
   "nbconvert_exporter": "python",
   "pygments_lexer": "ipython3",
   "version": "3.11.3"
  }
 },
 "nbformat": 4,
 "nbformat_minor": 5
}
