{
 "cells": [
  {
   "cell_type": "code",
   "execution_count": 7,
   "id": "2a1349ec",
   "metadata": {},
   "outputs": [
    {
     "name": "stdout",
     "output_type": "stream",
     "text": [
      "Sub-Fields in AI are: \n",
      "Machine Learning\n",
      "Neural Networks\n",
      "Vison\n",
      "Robotics\n",
      "Speech Processing\n",
      "Natural Language Processing\n"
     ]
    }
   ],
   "source": [
    "def subfields():\n",
    "    print(\"Sub-Fields in AI are: \")\n",
    "    list1=[\"Machine Learning\", \"Neural Networks\", \"Vison\", \"Robotics\",\"Speech Processing\",\"Natural Language Processing\"]\n",
    "\n",
    "    for l in list1:\n",
    "        print(l)\n",
    "\n",
    "subfields()"
   ]
  },
  {
   "cell_type": "code",
   "execution_count": 9,
   "id": "3042098f",
   "metadata": {},
   "outputs": [
    {
     "name": "stdout",
     "output_type": "stream",
     "text": [
      "Enter a number :52452\n",
      "52452 is a even number\n"
     ]
    }
   ],
   "source": [
    "def oddEven():\n",
    "    num=int(input(\"Enter a number :\"))\n",
    "    if(num%2==0):\n",
    "        print(num, \"is a even number\")\n",
    "    else:\n",
    "        print(num, \"is a odd Number\")\n",
    "oddEven()"
   ]
  },
  {
   "cell_type": "code",
   "execution_count": 14,
   "id": "5d0ecd4b",
   "metadata": {},
   "outputs": [
    {
     "name": "stdout",
     "output_type": "stream",
     "text": [
      "your gender :Female\n",
      "your age :4\n",
      "Not Eligible\n"
     ]
    }
   ],
   "source": [
    "\n",
    "def eligible():\n",
    "    gender=str(input(\"your gender :\"))\n",
    "    age=int(input(\"your age :\"))\n",
    "\n",
    "    if(gender==\"male\"):\n",
    "        if(age>=21):\n",
    "            print(\"Eligible\")\n",
    "        else:\n",
    "            print(\"Not Eligible\")\n",
    "        \n",
    "    elif(gender==\"female\"):\n",
    "        if(age>=18):\n",
    "            print(\"Eligible\")\n",
    "        else:\n",
    "            print(\"Not Eligible\")\n",
    "eligible()"
   ]
  },
  {
   "cell_type": "code",
   "execution_count": 19,
   "id": "b5a3793f",
   "metadata": {},
   "outputs": [
    {
     "name": "stdout",
     "output_type": "stream",
     "text": [
      "Subject 1:98\n",
      "Subject 2:87\n",
      "Subject 3:95\n",
      "Subject 4:95\n",
      "Subject 5:93\n",
      "Total : 468\n",
      "Percentage : 93.60000000000001\n"
     ]
    }
   ],
   "source": [
    "def percentage():\n",
    "    sub1=int(input(\"Subject 1:\"))\n",
    "    sub2=int(input(\"Subject 2:\"))\n",
    "    sub3=int(input(\"Subject 3:\"))\n",
    "    sub4=int(input(\"Subject 4:\"))\n",
    "    sub5=int(input(\"Subject 5:\"))\n",
    "    \n",
    "    tot=sub1+sub2+sub3+sub4+sub5\n",
    "    print(\"Total :\",tot)\n",
    "    \n",
    "    per=tot/500*100\n",
    "    print(\"Percentage :\",per)\n",
    "\n",
    "percentage()"
   ]
  },
  {
   "cell_type": "code",
   "execution_count": 23,
   "id": "8bd4ec1e",
   "metadata": {},
   "outputs": [
    {
     "name": "stdout",
     "output_type": "stream",
     "text": [
      "Height :32\n",
      "Breadth :34\n",
      "Area formula=(height*breadth)/2\n",
      "Area of Triangle : 544.0\n",
      "Height1 :2\n",
      "Height2 :4\n",
      "Breadth :4\n",
      "Perimeter Formula =Height1+Height2+Breadth\n",
      "Perimeter of Triangle : 10\n"
     ]
    }
   ],
   "source": [
    "def triangle():\n",
    "    h=int(input(\"Height :\"))\n",
    "    b=int(input(\"Breadth :\"))\n",
    "    \n",
    "    print(\"Area formula=(height*breadth)/2\")\n",
    "    area=(h*b)/2\n",
    "    print(\"Area of Triangle :\",area)\n",
    "\n",
    "    h1=int(input(\"Height1 :\"))\n",
    "    h2=int(input(\"Height2 :\"))\n",
    "    h3=int(input(\"Breadth :\"))\n",
    "    \n",
    "    print(\"Perimeter Formula =Height1+Height2+Breadth\")\n",
    "    peri=h1+h2+h3\n",
    "    print(\"Perimeter of Triangle :\",peri)\n",
    "    \n",
    "triangle()"
   ]
  },
  {
   "cell_type": "code",
   "execution_count": null,
   "id": "762ccf12",
   "metadata": {},
   "outputs": [],
   "source": []
  }
 ],
 "metadata": {
  "kernelspec": {
   "display_name": "Python 3 (ipykernel)",
   "language": "python",
   "name": "python3"
  },
  "language_info": {
   "codemirror_mode": {
    "name": "ipython",
    "version": 3
   },
   "file_extension": ".py",
   "mimetype": "text/x-python",
   "name": "python",
   "nbconvert_exporter": "python",
   "pygments_lexer": "ipython3",
   "version": "3.11.3"
  }
 },
 "nbformat": 4,
 "nbformat_minor": 5
}
