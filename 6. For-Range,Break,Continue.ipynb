{
 "cells": [
  {
   "cell_type": "code",
   "execution_count": 1,
   "id": "4fd65208",
   "metadata": {},
   "outputs": [
    {
     "name": "stdout",
     "output_type": "stream",
     "text": [
      "The history saving thread hit an unexpected error (OperationalError('database or disk is full')).History will not be written to the database.\n"
     ]
    }
   ],
   "source": [
    "# Loop is a control structure which executes a statement or group of statements repeatedly\n",
    "# Loop is divided into three categories - for, while, nested for loop\n",
    "\n",
    "#Loop - multiple inputs , single/Multiple Conditions\n"
   ]
  },
  {
   "cell_type": "code",
   "execution_count": 2,
   "id": "0187dd45",
   "metadata": {},
   "outputs": [],
   "source": [
    "# For loop \n",
    "# for tempvar in lists:\n",
    "#     #execute block of code\n",
    "\n",
    "#for tempvar in mainvar\n",
    "#    execute block of code"
   ]
  },
  {
   "cell_type": "code",
   "execution_count": 3,
   "id": "1b611752",
   "metadata": {},
   "outputs": [
    {
     "name": "stdout",
     "output_type": "stream",
     "text": [
      "1\n",
      "2\n",
      "3\n",
      "4\n",
      "5\n"
     ]
    }
   ],
   "source": [
    "#for loop using integer\n",
    "\n",
    "int_lists=[1,2,3,4,5]\n",
    "for num in int_lists:\n",
    "    print(num)"
   ]
  },
  {
   "cell_type": "code",
   "execution_count": 4,
   "id": "a41da705",
   "metadata": {},
   "outputs": [
    {
     "name": "stdout",
     "output_type": "stream",
     "text": [
      "Dog\n",
      "cat\n",
      "bird\n"
     ]
    }
   ],
   "source": [
    "#for loop using string\n",
    "\n",
    "str_lists=[\"Dog\",\"cat\",\"bird\"]\n",
    "for str in str_lists:\n",
    "    print(str)"
   ]
  },
  {
   "cell_type": "code",
   "execution_count": 5,
   "id": "944915e5",
   "metadata": {},
   "outputs": [
    {
     "name": "stdout",
     "output_type": "stream",
     "text": [
      "Adult\n",
      "Citizen\n",
      "Senior Citizen\n",
      "Adult\n",
      "Senior Citizen\n"
     ]
    }
   ],
   "source": [
    "# for loop - age\n",
    "\n",
    "lists=[23,45,67,34,89]\n",
    "for age in lists:\n",
    "    if age<18:\n",
    "        print(\"Children\")\n",
    "    elif age<35:\n",
    "        print(\"Adult\")\n",
    "    elif age<60:\n",
    "        print(\"Citizen\")\n",
    "    else:\n",
    "        print(\"Senior Citizen\")"
   ]
  },
  {
   "cell_type": "code",
   "execution_count": 7,
   "id": "e92a7ac8",
   "metadata": {},
   "outputs": [
    {
     "name": "stdout",
     "output_type": "stream",
     "text": [
      "0\n",
      "10\n",
      "20\n",
      "30\n",
      "40\n"
     ]
    }
   ],
   "source": [
    "#For using range\n",
    "\n",
    "for r in range(0,50,10):  #range(start,stop,step)\n",
    "    print(r)"
   ]
  },
  {
   "cell_type": "code",
   "execution_count": 8,
   "id": "eef19f11",
   "metadata": {},
   "outputs": [
    {
     "name": "stdout",
     "output_type": "stream",
     "text": [
      "b\n",
      "a\n",
      "n\n",
      "a\n",
      "n\n",
      "a\n"
     ]
    }
   ],
   "source": [
    "# for loop using string\n",
    "\n",
    "for string in \"banana\":\n",
    "    print(string)\n"
   ]
  },
  {
   "cell_type": "code",
   "execution_count": 13,
   "id": "56639b36",
   "metadata": {},
   "outputs": [
    {
     "name": "stdout",
     "output_type": "stream",
     "text": [
      "apple\n",
      "banana\n"
     ]
    }
   ],
   "source": [
    "#The Break Statement\n",
    "# we can stop the loop , before it has looped through all items\n",
    "\n",
    "fruits=[\"apple\", \"banana\", \"cherry\"]\n",
    "for f in fruits:\n",
    "    print(f)\n",
    "    if f==\"banana\":\n",
    "        break"
   ]
  },
  {
   "cell_type": "code",
   "execution_count": 18,
   "id": "98c71336",
   "metadata": {},
   "outputs": [
    {
     "name": "stdout",
     "output_type": "stream",
     "text": [
      "apple\n"
     ]
    }
   ],
   "source": [
    "fruits=[\"apple\",\"banana\",\"cherry\"]\n",
    "for f in fruits:\n",
    "    if f==\"banana\":\n",
    "        break\n",
    "    print(f)"
   ]
  },
  {
   "cell_type": "code",
   "execution_count": 19,
   "id": "fea9d635",
   "metadata": {},
   "outputs": [
    {
     "name": "stdout",
     "output_type": "stream",
     "text": [
      "apple\n",
      "cherry\n"
     ]
    }
   ],
   "source": [
    "# The Continue Statement\n",
    "# we can stop the current iteration of the loop and continue with the next\n",
    "\n",
    "fruits=[\"apple\",\"banana\",\"cherry\"]\n",
    "for f in fruits:\n",
    "    if f==\"banana\":\n",
    "        continue\n",
    "    print(f)"
   ]
  },
  {
   "cell_type": "code",
   "execution_count": null,
   "id": "46c2b42e",
   "metadata": {},
   "outputs": [],
   "source": []
  }
 ],
 "metadata": {
  "kernelspec": {
   "display_name": "Python 3 (ipykernel)",
   "language": "python",
   "name": "python3"
  },
  "language_info": {
   "codemirror_mode": {
    "name": "ipython",
    "version": 3
   },
   "file_extension": ".py",
   "mimetype": "text/x-python",
   "name": "python",
   "nbconvert_exporter": "python",
   "pygments_lexer": "ipython3",
   "version": "3.11.3"
  }
 },
 "nbformat": 4,
 "nbformat_minor": 5
}
