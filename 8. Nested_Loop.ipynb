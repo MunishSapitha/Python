{
 "cells": [
  {
   "cell_type": "code",
   "execution_count": 1,
   "id": "f9316ce4",
   "metadata": {},
   "outputs": [],
   "source": [
    "#Nested Loop\n",
    "# Nested loop is a loop inside a loop\n",
    "# the inner loop will be executed one time for each iteration of the outer loop"
   ]
  },
  {
   "cell_type": "code",
   "execution_count": 2,
   "id": "dabe076f",
   "metadata": {},
   "outputs": [
    {
     "name": "stdout",
     "output_type": "stream",
     "text": [
      "red apple\n",
      "red watermelon\n",
      "yellow apple\n",
      "yellow watermelon\n",
      "green apple\n",
      "green watermelon\n"
     ]
    }
   ],
   "source": [
    "color=[\"red\",\"yellow\",\"green\"]\n",
    "fruit=[\"apple\",\"watermelon\"]\n",
    "\n",
    "for x in color:\n",
    "    for y in fruit:\n",
    "        print(x,y)"
   ]
  },
  {
   "cell_type": "code",
   "execution_count": 3,
   "id": "8bd0d1af",
   "metadata": {},
   "outputs": [
    {
     "name": "stdout",
     "output_type": "stream",
     "text": [
      "1 4\n",
      "1 5\n",
      "1 6\n",
      "2 4\n",
      "2 5\n",
      "2 6\n",
      "3 4\n",
      "3 5\n",
      "3 6\n"
     ]
    }
   ],
   "source": [
    "list1=[1,2,3]\n",
    "list2=[4,5,6]\n",
    "\n",
    "for x in list1:\n",
    "    for y in list2:\n",
    "        print(x,y)"
   ]
  },
  {
   "cell_type": "code",
   "execution_count": 6,
   "id": "9120d661",
   "metadata": {},
   "outputs": [
    {
     "name": "stdout",
     "output_type": "stream",
     "text": [
      "0\n",
      "10\n",
      "20\n",
      "30\n",
      "1\n",
      "10\n",
      "20\n",
      "30\n"
     ]
    }
   ],
   "source": [
    "for i in range(2):\n",
    "    print(i)\n",
    "    for j in range(10,40,10):\n",
    "        print(j)"
   ]
  },
  {
   "cell_type": "code",
   "execution_count": null,
   "id": "07cf8811",
   "metadata": {},
   "outputs": [],
   "source": []
  }
 ],
 "metadata": {
  "kernelspec": {
   "display_name": "Python 3 (ipykernel)",
   "language": "python",
   "name": "python3"
  },
  "language_info": {
   "codemirror_mode": {
    "name": "ipython",
    "version": 3
   },
   "file_extension": ".py",
   "mimetype": "text/x-python",
   "name": "python",
   "nbconvert_exporter": "python",
   "pygments_lexer": "ipython3",
   "version": "3.11.3"
  }
 },
 "nbformat": 4,
 "nbformat_minor": 5
}
