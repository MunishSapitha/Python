{
 "cells": [
  {
   "cell_type": "code",
   "execution_count": 5,
   "id": "583f0e23",
   "metadata": {},
   "outputs": [
    {
     "name": "stdout",
     "output_type": "stream",
     "text": [
      "Add,Sub,Mul,Div : 30 -10 200 0.5\n"
     ]
    }
   ],
   "source": [
    "#Class contains group of functions\n",
    "\n",
    "# class classname():\n",
    "    #def funcname():\n",
    "        #return\n",
    "    \n",
    "    #def funcname():\n",
    "        #return\n",
    "\n",
    "#classname().funcname()    //dot operator\n"
   ]
  },
  {
   "cell_type": "code",
   "execution_count": 6,
   "id": "e71a9b74",
   "metadata": {},
   "outputs": [
    {
     "name": "stdout",
     "output_type": "stream",
     "text": [
      "Add,Sub,Mul,Div : 30 -10 200 0.5\n"
     ]
    }
   ],
   "source": [
    "class calculator():    #Create a class\n",
    "\n",
    "    def addition(num1,num2):\n",
    "        add=num1+num2\n",
    "        return add\n",
    "\n",
    "    def subtraction(num1,num2):\n",
    "        sub=num1-num2\n",
    "        return sub\n",
    "\n",
    "    def multiplication(num1,num2):\n",
    "        mul=num1*num2\n",
    "        return mul\n",
    "\n",
    "    def division(num1,num2):\n",
    "        div=num1/num2\n",
    "        return div\n",
    "\n",
    "r1=calculator.addition(10,20)     #Classname.funcname()\n",
    "r2=calculator.subtraction(10,20)\n",
    "r3=calculator.multiplication(10,20)\n",
    "r4=calculator.division(10,20)\n",
    "\n",
    "print(\"Add,Sub,Mul,Div :\",r1,r2,r3,r4)"
   ]
  },
  {
   "cell_type": "code",
   "execution_count": 16,
   "id": "b96feff3",
   "metadata": {},
   "outputs": [
    {
     "name": "stdout",
     "output_type": "stream",
     "text": [
      "Enter your age :4\n",
      "Children\n",
      "Enter the number :5\n",
      "Odd Number\n",
      "Enter the BMI Index :34\n",
      "Obese\n"
     ]
    }
   ],
   "source": [
    "class multipleFns():\n",
    "    \n",
    "    def age_category():  \n",
    "        age=int(input(\"Enter your age :\"))\n",
    "        if age<18:\n",
    "            print(\"Children\")\n",
    "            cate=\"Children\"\n",
    "        elif age<35:\n",
    "            print(\"Adult\")\n",
    "            cate=\"Adult\"\n",
    "        elif age<59:\n",
    "            print(\"Citizen\")\n",
    "            cate=\"Citizen\"\n",
    "        else:\n",
    "            print(\"Senior Citizen\")\n",
    "            cate=\"Senior Citizen\"      \n",
    "        return cate\n",
    "            \n",
    "\n",
    "\n",
    "    def odd_Even():\n",
    "        num=int(input(\"Enter the number :\"))\n",
    "        if num%2==0:\n",
    "            print(\"Even Number\")\n",
    "            msg=\"Even Number\"\n",
    "        else:\n",
    "            print(\"Odd Number\")\n",
    "            msg=\"Odd Number\"     \n",
    "        return msg\n",
    "    \n",
    "    \n",
    "    \n",
    "    def bmi_index():\n",
    "        bmi=int(input(\"Enter the BMI Index :\"))\n",
    "        if bmi<18:\n",
    "            print(\"Underweight\")\n",
    "            msg=\"Underweight\"\n",
    "        elif bmi<25:\n",
    "            print(\"Normal\")\n",
    "            msg=\"Normal\"\n",
    "        elif bmi<30:\n",
    "            print(\"Overweight\")\n",
    "            msg=\"Overweight\"\n",
    "        else:\n",
    "            print(\"Obese\")\n",
    "            msg=\"Obese\"\n",
    "        return msg\n",
    "\n",
    "\n",
    "assignvar1=multipleFns.age_category()\n",
    "assignvar2=multipleFns.odd_Even()\n",
    "assignvar3=multipleFns.bmi_index()"
   ]
  },
  {
   "cell_type": "code",
   "execution_count": null,
   "id": "6789593a",
   "metadata": {},
   "outputs": [],
   "source": []
  }
 ],
 "metadata": {
  "kernelspec": {
   "display_name": "Python 3 (ipykernel)",
   "language": "python",
   "name": "python3"
  },
  "language_info": {
   "codemirror_mode": {
    "name": "ipython",
    "version": 3
   },
   "file_extension": ".py",
   "mimetype": "text/x-python",
   "name": "python",
   "nbconvert_exporter": "python",
   "pygments_lexer": "ipython3",
   "version": "3.11.3"
  }
 },
 "nbformat": 4,
 "nbformat_minor": 5
}
