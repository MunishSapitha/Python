{
 "cells": [
  {
   "cell_type": "code",
   "execution_count": 1,
   "id": "6215bf6b",
   "metadata": {},
   "outputs": [],
   "source": [
    "#range() - returns sequence of numbers based on given range"
   ]
  },
  {
   "cell_type": "code",
   "execution_count": 2,
   "id": "f0506935",
   "metadata": {},
   "outputs": [
    {
     "name": "stdout",
     "output_type": "stream",
     "text": [
      "[0, 1, 2, 3, 4]\n"
     ]
    }
   ],
   "source": [
    "#1. stop - required\n",
    "# stop requires where the range will stop\n",
    "# ends at -1\n",
    "# range(stop)\n",
    "\n",
    "x=range(5)\n",
    "print(list(x))"
   ]
  },
  {
   "cell_type": "code",
   "execution_count": 3,
   "id": "05e4b2bc",
   "metadata": {},
   "outputs": [
    {
     "name": "stdout",
     "output_type": "stream",
     "text": [
      "[5, 6, 7, 8, 9]\n"
     ]
    }
   ],
   "source": [
    "#2. start - optional\n",
    "# start specifies where the range will start\n",
    "# default at 0\n",
    "# range(start=0, stop)\n",
    "\n",
    "y=range(5,10)\n",
    "print(list(y))"
   ]
  },
  {
   "cell_type": "code",
   "execution_count": 4,
   "id": "da95cb3a",
   "metadata": {},
   "outputs": [
    {
     "name": "stdout",
     "output_type": "stream",
     "text": [
      "[0, 2, 4, 6, 8]\n"
     ]
    }
   ],
   "source": [
    "#3. step - optional\n",
    "# step specifies how many steps are taken between indexes\n",
    "# default to 1\n",
    "# range(start=0,stop,step=1)\n",
    "\n",
    "z=range(0,10,2)\n",
    "print(list(z))"
   ]
  },
  {
   "cell_type": "code",
   "execution_count": null,
   "id": "02f4b9df",
   "metadata": {},
   "outputs": [],
   "source": []
  }
 ],
 "metadata": {
  "kernelspec": {
   "display_name": "Python 3 (ipykernel)",
   "language": "python",
   "name": "python3"
  },
  "language_info": {
   "codemirror_mode": {
    "name": "ipython",
    "version": 3
   },
   "file_extension": ".py",
   "mimetype": "text/x-python",
   "name": "python",
   "nbconvert_exporter": "python",
   "pygments_lexer": "ipython3",
   "version": "3.11.3"
  }
 },
 "nbformat": 4,
 "nbformat_minor": 5
}
