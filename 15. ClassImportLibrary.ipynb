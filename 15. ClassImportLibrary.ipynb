{
 "cells": [
  {
   "cell_type": "code",
   "execution_count": 1,
   "id": "db47ca71",
   "metadata": {},
   "outputs": [],
   "source": [
    "# Import User defined Library\n",
    "\n",
    "# from filename import classname\n",
    "\n",
    "# classname.functionname()"
   ]
  },
  {
   "cell_type": "code",
   "execution_count": 2,
   "id": "c91b1edd",
   "metadata": {},
   "outputs": [
    {
     "name": "stdout",
     "output_type": "stream",
     "text": [
      "Enter your age :4\n",
      "Children\n"
     ]
    }
   ],
   "source": [
    "from userDefinedLibrary import multipleFns      # from filename import classname\n",
    "\n",
    "assignvar1=multipleFns.age_category()           # classname.functionname()"
   ]
  },
  {
   "cell_type": "code",
   "execution_count": 3,
   "id": "c2ff322b",
   "metadata": {},
   "outputs": [
    {
     "name": "stdout",
     "output_type": "stream",
     "text": [
      "Enter the number :5\n",
      "Odd Number\n"
     ]
    }
   ],
   "source": [
    "assignvar2=multipleFns.odd_Even()"
   ]
  },
  {
   "cell_type": "code",
   "execution_count": 4,
   "id": "d6b00e15",
   "metadata": {},
   "outputs": [
    {
     "name": "stdout",
     "output_type": "stream",
     "text": [
      "Enter the BMI Index :4\n",
      "Underweight\n"
     ]
    }
   ],
   "source": [
    "assignvar3=multipleFns.bmi_index()"
   ]
  },
  {
   "cell_type": "code",
   "execution_count": null,
   "id": "43e39663",
   "metadata": {},
   "outputs": [],
   "source": []
  }
 ],
 "metadata": {
  "kernelspec": {
   "display_name": "Python 3 (ipykernel)",
   "language": "python",
   "name": "python3"
  },
  "language_info": {
   "codemirror_mode": {
    "name": "ipython",
    "version": 3
   },
   "file_extension": ".py",
   "mimetype": "text/x-python",
   "name": "python",
   "nbconvert_exporter": "python",
   "pygments_lexer": "ipython3",
   "version": "3.11.3"
  }
 },
 "nbformat": 4,
 "nbformat_minor": 5
}
