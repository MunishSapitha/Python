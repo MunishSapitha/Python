{
 "cells": [
  {
   "cell_type": "code",
   "execution_count": 1,
   "id": "80d643aa",
   "metadata": {},
   "outputs": [
    {
     "name": "stdout",
     "output_type": "stream",
     "text": [
      "Welcome to Assignment -1 \n",
      "The history saving thread hit an unexpected error (OperationalError('database or disk is full')).History will not be written to the database.\n"
     ]
    }
   ],
   "source": [
    "print(\"Welcome to Assignment -1 \")"
   ]
  },
  {
   "cell_type": "code",
   "execution_count": 2,
   "id": "a6630689",
   "metadata": {},
   "outputs": [
    {
     "name": "stdout",
     "output_type": "stream",
     "text": [
      "num1 = 10\n",
      "num2 = 30\n",
      "Add = 40\n",
      "The history saving thread hit an unexpected error (OperationalError('database or disk is full')).History will not be written to the database.\n"
     ]
    }
   ],
   "source": [
    "num1=10\n",
    "print(\"num1 =\",num1)\n",
    "num2=30\n",
    "print(\"num2 =\",num2)\n",
    "add=num1+num2\n",
    "print(\"Add =\",add)"
   ]
  },
  {
   "cell_type": "code",
   "execution_count": 4,
   "id": "8b80eb7b",
   "metadata": {},
   "outputs": [
    {
     "name": "stdout",
     "output_type": "stream",
     "text": [
      "Enter the BMI Index :34\n",
      "Obese\n"
     ]
    }
   ],
   "source": [
    "bmi=int(input(\"Enter the BMI Index :\"))\n",
    "if bmi<18:\n",
    "    print(\"Underweight\")\n",
    "elif bmi<25:\n",
    "        print(\"Normal\")\n",
    "elif bmi<30:\n",
    "        print(\"Overweight\")\n",
    "else:\n",
    "    print(\"Obese\")"
   ]
  },
  {
   "cell_type": "code",
   "execution_count": 5,
   "id": "f561fde5",
   "metadata": {},
   "outputs": [
    {
     "name": "stdout",
     "output_type": "stream",
     "text": [
      "HOPE AI\n"
     ]
    }
   ],
   "source": [
    "print(\"HOPE AI\")"
   ]
  },
  {
   "cell_type": "code",
   "execution_count": 8,
   "id": "e83368de",
   "metadata": {},
   "outputs": [
    {
     "name": "stdout",
     "output_type": "stream",
     "text": [
      "Enter your Institute name ? :HOPE AI\n"
     ]
    }
   ],
   "source": [
    "name=str(input(\"Enter your Institute name ? :\"))"
   ]
  },
  {
   "cell_type": "code",
   "execution_count": 9,
   "id": "c7907068",
   "metadata": {},
   "outputs": [
    {
     "name": "stdout",
     "output_type": "stream",
     "text": [
      "Enter your name :Raj\n",
      "Enter your age :15\n",
      "Enter your school name :Guru School\n",
      "Enter your degree :B.E CSE\n"
     ]
    }
   ],
   "source": [
    "name=str(input(\"Enter your name :\"))\n",
    "age=int(input(\"Enter your age :\"))\n",
    "school=str(input(\"Enter your school name :\"))\n",
    "degree=str(input(\"Enter your degree :\"))"
   ]
  },
  {
   "cell_type": "code",
   "execution_count": 10,
   "id": "bb9a0456",
   "metadata": {},
   "outputs": [
    {
     "name": "stdout",
     "output_type": "stream",
     "text": [
      "a = 43\n",
      "b = 34\n",
      "Add = 77\n"
     ]
    }
   ],
   "source": [
    "a=43\n",
    "print(\"a =\",a)\n",
    "b=34\n",
    "print(\"b =\",b)\n",
    "add=a+b\n",
    "print(\"Add =\",add)"
   ]
  },
  {
   "cell_type": "code",
   "execution_count": 13,
   "id": "81a7161d",
   "metadata": {},
   "outputs": [
    {
     "name": "stdout",
     "output_type": "stream",
     "text": [
      "a= 43\n",
      "b= 34\n",
      "Add=  77\n"
     ]
    }
   ],
   "source": [
    "#addition\n",
    "\n",
    "a=int(input(\"a= \"))\n",
    "b=int(input(\"b= \"))\n",
    "add=a+b\n",
    "print(\"Add= \",add)"
   ]
  },
  {
   "cell_type": "code",
   "execution_count": 12,
   "id": "6107b9b4",
   "metadata": {},
   "outputs": [
    {
     "name": "stdout",
     "output_type": "stream",
     "text": [
      "a =43\n",
      "b =34\n",
      "Sub = 9\n"
     ]
    }
   ],
   "source": [
    "#subtraction\n",
    "\n",
    "a=int(input(\"a= \"))\n",
    "b=int(input(\"b= \"))\n",
    "sub=a-b\n",
    "print(\"Sub= \",sub)"
   ]
  },
  {
   "cell_type": "code",
   "execution_count": 14,
   "id": "78e4d024",
   "metadata": {},
   "outputs": [
    {
     "name": "stdout",
     "output_type": "stream",
     "text": [
      "a= 63\n",
      "b= 97\n",
      "Mul=  6111\n"
     ]
    }
   ],
   "source": [
    "#multiplication\n",
    "\n",
    "a=int(input(\"a= \"))\n",
    "b=int(input(\"b= \"))\n",
    "mul=a*b\n",
    "print(\"Mul= \",mul)"
   ]
  },
  {
   "cell_type": "code",
   "execution_count": 15,
   "id": "b344d1bf",
   "metadata": {},
   "outputs": [
    {
     "name": "stdout",
     "output_type": "stream",
     "text": [
      "a= 76\n",
      "b= 31\n",
      "Div=  2.4516129032258065\n"
     ]
    }
   ],
   "source": [
    "#Division\n",
    "\n",
    "a=int(input(\"a= \"))\n",
    "b=int(input(\"b= \"))\n",
    "div=a/b\n",
    "print(\"Float Div= \",div)"
   ]
  },
  {
   "cell_type": "code",
   "execution_count": 16,
   "id": "fc7ce798",
   "metadata": {},
   "outputs": [
    {
     "name": "stdout",
     "output_type": "stream",
     "text": [
      "a= 76\n",
      "b= 31\n",
      "Div=  2\n"
     ]
    }
   ],
   "source": [
    "#Floor Division\n",
    "\n",
    "a=int(input(\"a= \"))\n",
    "b=int(input(\"b= \"))\n",
    "div=a//b\n",
    "print(\"Floor Div= \",div)"
   ]
  },
  {
   "cell_type": "code",
   "execution_count": 17,
   "id": "037db218",
   "metadata": {},
   "outputs": [
    {
     "name": "stdout",
     "output_type": "stream",
     "text": [
      "a= 76\n",
      "b= 31\n",
      "Modulo =  14\n"
     ]
    }
   ],
   "source": [
    "#Modulo\n",
    "\n",
    "a=int(input(\"a= \"))\n",
    "b=int(input(\"b= \"))\n",
    "rem=a%b\n",
    "print(\"Modulo = \",rem)"
   ]
  },
  {
   "cell_type": "code",
   "execution_count": 19,
   "id": "dca18b90",
   "metadata": {},
   "outputs": [
    {
     "name": "stdout",
     "output_type": "stream",
     "text": [
      "a= 4\n",
      "b= 4\n",
      "Power =  256\n"
     ]
    }
   ],
   "source": [
    "#Power\n",
    "\n",
    "\n",
    "a=int(input(\"a= \"))\n",
    "b=int(input(\"b= \"))\n",
    "pow=a**b\n",
    "print(\"Power = \",pow)"
   ]
  },
  {
   "cell_type": "code",
   "execution_count": 22,
   "id": "e25d2bdd",
   "metadata": {},
   "outputs": [
    {
     "name": "stdout",
     "output_type": "stream",
     "text": [
      "0\n",
      "1\n",
      "2\n",
      "3\n",
      "4\n",
      "5\n",
      "6\n",
      "7\n",
      "8\n",
      "9\n",
      "10\n",
      "11\n",
      "12\n",
      "13\n",
      "14\n",
      "15\n",
      "16\n",
      "17\n",
      "18\n",
      "19\n"
     ]
    }
   ],
   "source": [
    "#print 0 to 20 by using range - for loop\n",
    "\n",
    "for r in range(0,20):\n",
    "    print(r)"
   ]
  },
  {
   "cell_type": "code",
   "execution_count": 23,
   "id": "254c551b",
   "metadata": {},
   "outputs": [
    {
     "name": "stdout",
     "output_type": "stream",
     "text": [
      "0\n",
      "1\n",
      "2\n",
      "3\n",
      "4\n",
      "5\n",
      "6\n",
      "7\n",
      "8\n",
      "9\n",
      "10\n",
      "11\n",
      "12\n",
      "13\n",
      "14\n",
      "15\n",
      "16\n",
      "17\n",
      "18\n",
      "19\n"
     ]
    }
   ],
   "source": [
    "#print 0 to 20 by using range - while loop\n",
    "\n",
    "i=0\n",
    "while i in range(0,20):\n",
    "    print(i)\n",
    "    i+=1"
   ]
  },
  {
   "cell_type": "code",
   "execution_count": 45,
   "id": "e26dc879",
   "metadata": {},
   "outputs": [
    {
     "name": "stdout",
     "output_type": "stream",
     "text": [
      "10 11 12 13 14 15 16 17 18 19 "
     ]
    }
   ],
   "source": [
    "#print range 10 to 20 -for loop\n",
    "\n",
    "for r in range(10,20):\n",
    "    print(r, end=\" \")"
   ]
  },
  {
   "cell_type": "code",
   "execution_count": 44,
   "id": "53cccd15",
   "metadata": {},
   "outputs": [
    {
     "name": "stdout",
     "output_type": "stream",
     "text": [
      "10 11 12 13 14 15 16 17 18 19 "
     ]
    }
   ],
   "source": [
    "#print range 10 to 20 -while loop\n",
    "\n",
    "i=10\n",
    "while i in range(10,20):\n",
    "    print(i,end=\" \")\n",
    "    i+=1"
   ]
  },
  {
   "cell_type": "code",
   "execution_count": 27,
   "id": "138e903e",
   "metadata": {},
   "outputs": [
    {
     "name": "stdout",
     "output_type": "stream",
     "text": [
      "[10, 20, 14, 55, 43, 87, 76]\n",
      "Number of items in the list2:  7\n"
     ]
    }
   ],
   "source": [
    "#print number of items in the list by using 'len'\n",
    "\n",
    "list2=[10,20,14,55,43,87,76]\n",
    "print(list2)\n",
    "print(\"Number of items in the list2: \",len(list2))"
   ]
  },
  {
   "cell_type": "code",
   "execution_count": 30,
   "id": "8ad15379",
   "metadata": {},
   "outputs": [
    {
     "name": "stdout",
     "output_type": "stream",
     "text": [
      "Artificial Intelligence\n",
      "A\n",
      "r\n",
      "t\n",
      "i\n",
      "f\n",
      "i\n",
      "c\n",
      "i\n",
      "a\n",
      "l\n",
      " \n",
      "I\n",
      "n\n",
      "t\n",
      "e\n",
      "l\n",
      "l\n",
      "i\n",
      "g\n",
      "e\n",
      "n\n",
      "c\n",
      "e\n"
     ]
    }
   ],
   "source": [
    "print(\"Artificial Intelligence\")\n",
    "for s in \"Artificial Intelligence\":\n",
    "    print(s)"
   ]
  },
  {
   "cell_type": "code",
   "execution_count": 46,
   "id": "9bec5a62",
   "metadata": {},
   "outputs": [
    {
     "name": "stdout",
     "output_type": "stream",
     "text": [
      "Artificial Intelligence\n",
      "A\n",
      "r\n",
      "t\n",
      "i\n",
      "f\n",
      "i\n",
      "c\n",
      "i\n",
      "a\n",
      "l\n",
      " \n",
      "I\n",
      "n\n",
      "t\n",
      "e\n",
      "l\n",
      "l\n",
      "i\n",
      "g\n",
      "e\n",
      "n\n",
      "c\n",
      "e\n"
     ]
    }
   ],
   "source": [
    "print(\"Artificial Intelligence\")\n",
    "str1=\"Artificial Intelligence\"\n",
    "for s in str1 :\n",
    "    print(s)"
   ]
  },
  {
   "cell_type": "code",
   "execution_count": 31,
   "id": "0399dbbd",
   "metadata": {},
   "outputs": [
    {
     "name": "stdout",
     "output_type": "stream",
     "text": [
      "['-your name-', '-your age-', '-your proffession-']\n"
     ]
    }
   ],
   "source": [
    "lists=[\"-your name-\",\"-your age-\", \"-your proffession-\"]\n",
    "print(lists)"
   ]
  },
  {
   "cell_type": "code",
   "execution_count": 33,
   "id": "c8f0040f",
   "metadata": {},
   "outputs": [
    {
     "name": "stdout",
     "output_type": "stream",
     "text": [
      "-your name-\n",
      "-your age-\n",
      "-your proffession-\n"
     ]
    }
   ],
   "source": [
    "lists=[\"-your name-\",\"-your age-\", \"-your proffession-\"]\n",
    "for l in lists:\n",
    "    print(l)"
   ]
  },
  {
   "cell_type": "code",
   "execution_count": 34,
   "id": "4671acd8",
   "metadata": {},
   "outputs": [
    {
     "name": "stdout",
     "output_type": "stream",
     "text": [
      "(1, 'Welcome', 2, 'Hope')\n"
     ]
    }
   ],
   "source": [
    "#Tuple\n",
    "\n",
    "tuple1=(1, \"Welcome\", 2, \"Hope\")\n",
    "print(tuple1)"
   ]
  },
  {
   "cell_type": "code",
   "execution_count": 35,
   "id": "cd9278e2",
   "metadata": {},
   "outputs": [
    {
     "name": "stdout",
     "output_type": "stream",
     "text": [
      "(0, 1, 2, 3) ('python', 'HOPE')\n"
     ]
    }
   ],
   "source": [
    "#Nested tuples\n",
    "\n",
    "tuple2=(0,1,2,3)\n",
    "tuple3=(\"python\", \"HOPE\")\n",
    "print(tuple2,tuple3)"
   ]
  },
  {
   "cell_type": "code",
   "execution_count": 41,
   "id": "1410e45b",
   "metadata": {},
   "outputs": [
    {
     "name": "stdout",
     "output_type": "stream",
     "text": [
      "(20, 10, 16, 19, 25, 1, 276, 188)\n",
      "19 is odd\n",
      "25 is odd\n",
      "1 is odd\n"
     ]
    }
   ],
   "source": [
    "#print odd numbers in tuples\n",
    "\n",
    "t=(20,10,16,19,25,1,276,188)\n",
    "print(t)\n",
    "for tuple4 in t:\n",
    "    if tuple4%2==1:\n",
    "        print(tuple4, \"is odd\")"
   ]
  },
  {
   "cell_type": "code",
   "execution_count": 42,
   "id": "e340df23",
   "metadata": {},
   "outputs": [
    {
     "name": "stdout",
     "output_type": "stream",
     "text": [
      "(20, 10, 16, 19, 25, 1, 276, 188)\n",
      "20 is even\n",
      "10 is even\n",
      "16 is even\n",
      "276 is even\n",
      "188 is even\n"
     ]
    }
   ],
   "source": [
    "#print even numbers in tuples\n",
    "\n",
    "t=(20,10,16,19,25,1,276,188)\n",
    "print(t)\n",
    "for tuple5 in t:\n",
    "    if tuple5%2==0:\n",
    "        print(tuple5, \"is even\")"
   ]
  },
  {
   "cell_type": "code",
   "execution_count": 47,
   "id": "8ce61642",
   "metadata": {},
   "outputs": [
    {
     "name": "stdout",
     "output_type": "stream",
     "text": [
      "Value :10\n",
      "correct\n"
     ]
    }
   ],
   "source": [
    "#print correct if i==10\n",
    "\n",
    "i=int(input(\"Value :\" ))\n",
    "if i==10:\n",
    "    print(\"correct\")"
   ]
  },
  {
   "cell_type": "code",
   "execution_count": 51,
   "id": "c736f857",
   "metadata": {},
   "outputs": [
    {
     "name": "stdout",
     "output_type": "stream",
     "text": [
      "Enter the password :hope\n",
      "your password is incorrect\n"
     ]
    }
   ],
   "source": [
    "#Check the password using if and else\n",
    "\n",
    "pwd=(input(\"Enter the password :\"))\n",
    "if pwd==\"HOPE@123\":\n",
    "    print(\"your password is correct\")\n",
    "else:\n",
    "    print(\"sorry!! your password is incorrect\");"
   ]
  },
  {
   "cell_type": "code",
   "execution_count": 54,
   "id": "81225d51",
   "metadata": {},
   "outputs": [
    {
     "name": "stdout",
     "output_type": "stream",
     "text": [
      "Enter your age :29\n",
      "Young Adults\n"
     ]
    }
   ],
   "source": [
    "#Category the people by their age\n",
    "\n",
    "age=int(input(\"Enter your age :\"))\n",
    "\n",
    "if age<2:\n",
    "    print(\"Baby\")\n",
    "elif age<16:\n",
    "    print(\"Children\")\n",
    "elif age<30:\n",
    "    print(\"Young Adults\")\n",
    "elif age<45:\n",
    "    print(\"Middle age Adults\")\n",
    "elif age<60:\n",
    "    print(\"Old Adults\")\n",
    "else:\n",
    "    print(\"Senior citizens\")"
   ]
  },
  {
   "cell_type": "code",
   "execution_count": 60,
   "id": "c3e4a9e3",
   "metadata": {},
   "outputs": [
    {
     "name": "stdout",
     "output_type": "stream",
     "text": [
      "Enter the number :1\n",
      "The given number is positive\n"
     ]
    }
   ],
   "source": [
    "#Find whether given number is positive or negative\n",
    "\n",
    "num=int(input(\"Enter the number :\"))\n",
    "if num>0:\n",
    "    print(\"The given number is positive\")\n",
    "elif num<0:\n",
    "    print(\"The given number is negative\")\n",
    "else:\n",
    "    print(\"The given number is zero\")"
   ]
  },
  {
   "cell_type": "code",
   "execution_count": 64,
   "id": "70c963c4",
   "metadata": {},
   "outputs": [
    {
     "name": "stdout",
     "output_type": "stream",
     "text": [
      "Enter the number :525\n",
      "The number is divisible by 5\n"
     ]
    }
   ],
   "source": [
    "#check whether the given number is divisible by 5\n",
    "# A number is divisible by 5 if its digits last digit will be 0 or 5 \n",
    "\n",
    "rem=int(input(\"Enter the number :\"))\n",
    "if rem%5==0:\n",
    "    print(\"The number is divisible by 5\")\n",
    "else:\n",
    "    print(\"The number is not divisible by 5\")\n"
   ]
  },
  {
   "cell_type": "code",
   "execution_count": null,
   "id": "a808824d",
   "metadata": {},
   "outputs": [],
   "source": []
  }
 ],
 "metadata": {
  "kernelspec": {
   "display_name": "Python 3 (ipykernel)",
   "language": "python",
   "name": "python3"
  },
  "language_info": {
   "codemirror_mode": {
    "name": "ipython",
    "version": 3
   },
   "file_extension": ".py",
   "mimetype": "text/x-python",
   "name": "python",
   "nbconvert_exporter": "python",
   "pygments_lexer": "ipython3",
   "version": "3.11.3"
  }
 },
 "nbformat": 4,
 "nbformat_minor": 5
}
