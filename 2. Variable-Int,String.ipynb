{
 "cells": [
  {
   "cell_type": "code",
   "execution_count": 1,
   "id": "747edac2",
   "metadata": {},
   "outputs": [],
   "source": [
    "#Variable and Assignment Operator\n",
    "\n",
    "# Variable holds values\n",
    "# Variable Stores values in memory\n",
    "# Give Descriptive variable name\n",
    "# Define variable name eg: name, first_name \n",
    "# Variable name is case sensitive and give underscore for two variable names\n",
    "# The purpose of assignment operator stores right hand side(RHS)value to left hand side(LHS)"
   ]
  },
  {
   "cell_type": "code",
   "execution_count": 2,
   "id": "301b7f38",
   "metadata": {},
   "outputs": [
    {
     "name": "stdout",
     "output_type": "stream",
     "text": [
      "30\n"
     ]
    }
   ],
   "source": [
    "num1=10\n",
    "num2=20\n",
    "add=num1+num2\n",
    "print(add)"
   ]
  },
  {
   "cell_type": "code",
   "execution_count": 3,
   "id": "3243925f",
   "metadata": {},
   "outputs": [],
   "source": [
    "# Based on the output, we have to write the code efficiently\n",
    "\n",
    "#The output should be displayed as follows:\n",
    "\n",
    "#The addition of two numbers\n",
    "#The Number1 :10\n",
    "#The Number2 :20\n",
    "#The Answer  :30\n"
   ]
  },
  {
   "cell_type": "code",
   "execution_count": 5,
   "id": "6eb76982",
   "metadata": {},
   "outputs": [
    {
     "name": "stdout",
     "output_type": "stream",
     "text": [
      "The addition of two numbers\n",
      "The Number1 : 10\n",
      "The Number2 : 20\n",
      "The Answer : 30\n"
     ]
    }
   ],
   "source": [
    "print(\"The addition of two numbers\")\n",
    "num1=10\n",
    "print(\"The Number1 :\",num1)\n",
    "num2=20\n",
    "print(\"The Number2 :\",num2)\n",
    "add=num1+num2\n",
    "print(\"The Answer :\",add)"
   ]
  },
  {
   "cell_type": "code",
   "execution_count": 6,
   "id": "f4023d8a",
   "metadata": {},
   "outputs": [
    {
     "name": "stdout",
     "output_type": "stream",
     "text": [
      "10\n",
      "-10\n"
     ]
    }
   ],
   "source": [
    "#Integer- whole numbers (positive and negative)\n",
    "\n",
    "x=10\n",
    "print(x)\n",
    "y=-10\n",
    "print(y)"
   ]
  },
  {
   "cell_type": "code",
   "execution_count": 7,
   "id": "92b182bd",
   "metadata": {},
   "outputs": [
    {
     "name": "stdout",
     "output_type": "stream",
     "text": [
      "3.14\n"
     ]
    }
   ],
   "source": [
    "#Float-real numbers (numbers with decimal point)\n",
    "\n",
    "f=3.14\n",
    "print(f)"
   ]
  },
  {
   "cell_type": "code",
   "execution_count": 8,
   "id": "687b8096",
   "metadata": {},
   "outputs": [
    {
     "name": "stdout",
     "output_type": "stream",
     "text": [
      "Hope AI\n"
     ]
    }
   ],
   "source": [
    "#String - sequence of characters (Word/Sentences/Alphabets)\n",
    "\n",
    "msg=\"Hope AI\"\n",
    "print(msg)"
   ]
  },
  {
   "cell_type": "code",
   "execution_count": 9,
   "id": "684642aa",
   "metadata": {},
   "outputs": [
    {
     "name": "stdout",
     "output_type": "stream",
     "text": [
      "Munish Sapitha\n"
     ]
    }
   ],
   "source": [
    "#String concatenation\n",
    "\n",
    "first_name=\"Munish\"\n",
    "last_name=\"Sapitha\"\n",
    "print(first_name+\" \"+last_name)"
   ]
  },
  {
   "cell_type": "code",
   "execution_count": 10,
   "id": "18917753",
   "metadata": {},
   "outputs": [
    {
     "name": "stdout",
     "output_type": "stream",
     "text": [
      "Arithmetic Operations:  15 5 50 2.0\n"
     ]
    }
   ],
   "source": [
    "#Arithmetic Operations-Addition, Subtraction, Multiplication and Division\n",
    "\n",
    "a=10\n",
    "b=5\n",
    "add=a+b\n",
    "sub=a-b\n",
    "mul=a*b\n",
    "div=a/b\n",
    "print(\"Arithmetic Operations: \",add ,sub, mul, div)"
   ]
  },
  {
   "cell_type": "code",
   "execution_count": 11,
   "id": "ef3340b7",
   "metadata": {},
   "outputs": [
    {
     "name": "stdout",
     "output_type": "stream",
     "text": [
      "Remainder : 0\n"
     ]
    }
   ],
   "source": [
    "#Reminder - Modulus Operator\n",
    "\n",
    "rem=a%b\n",
    "print(\"Remainder :\",rem)"
   ]
  },
  {
   "cell_type": "code",
   "execution_count": 12,
   "id": "cd8f371a",
   "metadata": {},
   "outputs": [
    {
     "name": "stdout",
     "output_type": "stream",
     "text": [
      "Exponentiation: 100000\n"
     ]
    }
   ],
   "source": [
    "#Exponentiation- power\n",
    "\n",
    "power=a**b\n",
    "print(\"Exponentiation:\",power)"
   ]
  },
  {
   "cell_type": "code",
   "execution_count": 13,
   "id": "b089c5dc",
   "metadata": {},
   "outputs": [
    {
     "name": "stdout",
     "output_type": "stream",
     "text": [
      "less than : False\n",
      "greater than : True\n",
      "equal to : False\n",
      "Not equal to : True\n"
     ]
    }
   ],
   "source": [
    "#Equality Comparisions-less than,greater than, equal to, not equal to\n",
    "\n",
    "print(\"less than :\", a<b)\n",
    "print(\"greater than :\", a>b)\n",
    "print(\"equal to :\",a==b)\n",
    "print(\"Not equal to :\", a!=b)"
   ]
  },
  {
   "cell_type": "code",
   "execution_count": 15,
   "id": "e9e7ca72",
   "metadata": {},
   "outputs": [
    {
     "name": "stdout",
     "output_type": "stream",
     "text": [
      "Enter your reg number :1\n",
      "Enter your name :sapitha\n"
     ]
    }
   ],
   "source": [
    "# input()-Reserved keyword \n",
    "# input()- gets input from user\n",
    "\n",
    "num=int(input(\"Enter your reg number :\"))\n",
    "msg=str(input(\"Enter your name :\"))"
   ]
  },
  {
   "cell_type": "code",
   "execution_count": 17,
   "id": "7cc2db7b",
   "metadata": {},
   "outputs": [
    {
     "name": "stdout",
     "output_type": "stream",
     "text": [
      "Enter first number :10\n",
      "Enter second number :20\n",
      "subtraction of two numbers: -10\n"
     ]
    }
   ],
   "source": [
    "#input() using int as input\n",
    "#int - use , symbol in print()\n",
    "\n",
    "num3=int(input(\"Enter first number :\"))\n",
    "num4=int(input(\"Enter second number :\"))\n",
    "sub=num3-num4\n",
    "print(\"subtraction of two numbers:\",sub)"
   ]
  },
  {
   "cell_type": "code",
   "execution_count": 20,
   "id": "d3c4ab50",
   "metadata": {},
   "outputs": [
    {
     "name": "stdout",
     "output_type": "stream",
     "text": [
      "Enter your name :Munish Sapitha\n",
      "your name: Munish Sapitha\n"
     ]
    }
   ],
   "source": [
    "#input() using str as input\n",
    "#string - use + symbol in print()\n",
    "\n",
    "name=str(input(\"Enter your name :\"))\n",
    "print(\"your name: \"+name)"
   ]
  },
  {
   "cell_type": "code",
   "execution_count": null,
   "id": "9bed6735",
   "metadata": {},
   "outputs": [],
   "source": []
  }
 ],
 "metadata": {
  "kernelspec": {
   "display_name": "Python 3 (ipykernel)",
   "language": "python",
   "name": "python3"
  },
  "language_info": {
   "codemirror_mode": {
    "name": "ipython",
    "version": 3
   },
   "file_extension": ".py",
   "mimetype": "text/x-python",
   "name": "python",
   "nbconvert_exporter": "python",
   "pygments_lexer": "ipython3",
   "version": "3.11.3"
  }
 },
 "nbformat": 4,
 "nbformat_minor": 5
}
